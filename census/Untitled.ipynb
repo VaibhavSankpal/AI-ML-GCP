{
 "cells": [
  {
   "cell_type": "code",
   "execution_count": 33,
   "metadata": {},
   "outputs": [
    {
     "name": "stdout",
     "output_type": "stream",
     "text": [
      "Job [census_prediction_20200212_145625] submitted successfully.\n",
      "Your job is still active. You may view the status of your job with the command\n",
      "\n",
      "  $ gcloud ai-platform jobs describe census_prediction_20200212_145625\n",
      "\n",
      "or continue streaming the logs with the command\n",
      "\n",
      "  $ gcloud ai-platform jobs stream-logs census_prediction_20200212_145625\n",
      "jobId: census_prediction_20200212_145625\n",
      "state: QUEUED\n"
     ]
    }
   ],
   "source": [
    "!gcloud ai-platform jobs submit training census_prediction_$(date +\"%Y%m%d_%H%M%S\") \\\n",
    "--staging-bucket gs://cap-4985-mlengine-staging \\\n",
    "--packages='gs://cap-4985-modelmanagement/census/package/prediction/census-batch-prediction-package-0.1.tar.gz' \\\n",
    "--module-name trainer.task \\\n",
    "--region us-central1 \\\n",
    "--runtime-version=1.13 \\\n",
    "--python-version=3.5 \\\n",
    "--scale-tier BASIC \\\n",
    "-- \\\n",
    "--bucket_name cap-4985-modelmanagement \\\n",
    "--output_dir census/output"
   ]
  },
  {
   "cell_type": "code",
   "execution_count": null,
   "metadata": {},
   "outputs": [],
   "source": [
    "!gcloud ai-platform jobs submit training census_training_$(date +\"%Y%m%d_%H%M%S\") \\\n",
    "--staging-bucket gs://cap-4985-mlengine-staging \\\n",
    "--packages='gs://cap-4985-modelmanagement-repo/census/package/census-deploy-package-0.1.tar.gz' \\\n",
    "--module-name trainer.task \\\n",
    "--region us-central1 \\\n",
    "--runtime-version=1.13 \\\n",
    "--python-version=3.5 \\\n",
    "--scale-tier BASIC \\\n",
    "-- \\\n",
    "--bucket_name cap-4985-modelmanagement \\\n",
    "--output_dir census/output"
   ]
  },
  {
   "cell_type": "code",
   "execution_count": 25,
   "metadata": {},
   "outputs": [
    {
     "name": "stderr",
     "output_type": "stream",
     "text": [
      "/opt/anaconda3/lib/python3.7/site-packages/sklearn/base.py:306: UserWarning: Trying to unpickle estimator SelectKBest from version 0.20.2 when using version 0.21.3. This might lead to breaking code or invalid results. Use at your own risk.\n",
      "  UserWarning)\n",
      "/opt/anaconda3/lib/python3.7/site-packages/sklearn/base.py:306: UserWarning: Trying to unpickle estimator LabelBinarizer from version 0.20.2 when using version 0.21.3. This might lead to breaking code or invalid results. Use at your own risk.\n",
      "  UserWarning)\n",
      "/opt/anaconda3/lib/python3.7/site-packages/sklearn/base.py:306: UserWarning: Trying to unpickle estimator Pipeline from version 0.20.2 when using version 0.21.3. This might lead to breaking code or invalid results. Use at your own risk.\n",
      "  UserWarning)\n",
      "/opt/anaconda3/lib/python3.7/site-packages/sklearn/base.py:306: UserWarning: Trying to unpickle estimator FeatureUnion from version 0.20.2 when using version 0.21.3. This might lead to breaking code or invalid results. Use at your own risk.\n",
      "  UserWarning)\n",
      "/opt/anaconda3/lib/python3.7/site-packages/sklearn/base.py:306: UserWarning: Trying to unpickle estimator DecisionTreeClassifier from version 0.20.2 when using version 0.21.3. This might lead to breaking code or invalid results. Use at your own risk.\n",
      "  UserWarning)\n",
      "/opt/anaconda3/lib/python3.7/site-packages/sklearn/base.py:306: UserWarning: Trying to unpickle estimator RandomForestClassifier from version 0.20.2 when using version 0.21.3. This might lead to breaking code or invalid results. Use at your own risk.\n",
      "  UserWarning)\n"
     ]
    }
   ],
   "source": [
    "import os\n",
    "import numpy as np\n",
    "import pandas as pd\n",
    "import sys\n",
    "import json\n",
    "import logging\n",
    "from sklearn.externals import joblib\n",
    "from censusprediction.trainer.helper import gcshelper, bqhelper\n",
    "\n",
    "censuspredictiontable = 'modelmanagement.censuspredictiontable'\n",
    "\n",
    "# Specify default parameters.\n",
    "MODEL_BUCKET = 'cap-4985-modelmanagement'\n",
    "MODEL_PATH = 'census/output/'\n",
    "LOCAL_PATH = 'model'\n",
    "\n",
    "gcshelper.download_from_bucket(MODEL_BUCKET, MODEL_PATH, LOCAL_PATH)\n",
    "model = joblib.load(LOCAL_PATH + '/model.joblib')"
   ]
  },
  {
   "cell_type": "code",
   "execution_count": 26,
   "metadata": {},
   "outputs": [],
   "source": [
    "df = bqhelper.read_from_bqtable('sb-bigdata-4985-da852265', 'SELECT * FROM `sb-bigdata-4985-da852265.modelmanagement.composer_census_data`')\n",
    "#inputObjs = np.array(df)"
   ]
  },
  {
   "cell_type": "code",
   "execution_count": 27,
   "metadata": {},
   "outputs": [],
   "source": [
    "df1 = df.drop(['income_bracket'], axis=1)"
   ]
  },
  {
   "cell_type": "code",
   "execution_count": 28,
   "metadata": {},
   "outputs": [],
   "source": [
    "op = model.predict(df1)"
   ]
  },
  {
   "cell_type": "code",
   "execution_count": 29,
   "metadata": {},
   "outputs": [
    {
     "data": {
      "text/plain": [
       "array([False, False, False, ...,  True,  True, False])"
      ]
     },
     "execution_count": 29,
     "metadata": {},
     "output_type": "execute_result"
    }
   ],
   "source": [
    "op"
   ]
  },
  {
   "cell_type": "code",
   "execution_count": 30,
   "metadata": {},
   "outputs": [],
   "source": [
    "df1['prediction_result'] = op"
   ]
  },
  {
   "cell_type": "code",
   "execution_count": 34,
   "metadata": {},
   "outputs": [],
   "source": [
    "from google.cloud import bigquery\n",
    "\n",
    "\n",
    "# create a schema for the output BQ table\n",
    "varbqschema=[\n",
    "    bigquery.SchemaField(name=\"age\", field_type=\"INTEGER\"),\n",
    "    bigquery.SchemaField(name=\"workclass\", field_type=\"STRING\"),\n",
    "    bigquery.SchemaField(name=\"functional_weight\", field_type=\"INTEGER\"),\n",
    "    bigquery.SchemaField(name=\"education\", field_type=\"STRING\"),\n",
    "    bigquery.SchemaField(name=\"education_num\", field_type=\"INTEGER\"),\n",
    "    bigquery.SchemaField(name=\"marital_status\", field_type=\"STRING\"),\n",
    "    bigquery.SchemaField(name=\"occupation\", field_type=\"STRING\"),\n",
    "    bigquery.SchemaField(name=\"relationship\", field_type=\"STRING\"),\n",
    "    bigquery.SchemaField(name=\"race\", field_type=\"STRING\"),\n",
    "    bigquery.SchemaField(name=\"sex\", field_type=\"STRING\"),\n",
    "    bigquery.SchemaField(name=\"capital_gain\", field_type=\"INTEGER\"),\n",
    "    bigquery.SchemaField(name=\"capital_loss\", field_type=\"INTEGER\"),\n",
    "    bigquery.SchemaField(name=\"hours_per_week\", field_type=\"INTEGER\"),\n",
    "    bigquery.SchemaField(name=\"native_country\", field_type=\"STRING\"),\n",
    "    bigquery.SchemaField(name=\"prediction_result\", field_type=\"BOOLEAN\")\n",
    "]\n",
    "#write the results and the input data to a new BQ table\n",
    "bqhelper.write_to_bqtable('sb-bigdata-4985-da852265', censuspredictiontable, varbqschema, df1)"
   ]
  },
  {
   "cell_type": "code",
   "execution_count": null,
   "metadata": {},
   "outputs": [],
   "source": []
  }
 ],
 "metadata": {
  "kernelspec": {
   "display_name": "Python 3",
   "language": "python",
   "name": "python3"
  },
  "language_info": {
   "codemirror_mode": {
    "name": "ipython",
    "version": 3
   },
   "file_extension": ".py",
   "mimetype": "text/x-python",
   "name": "python",
   "nbconvert_exporter": "python",
   "pygments_lexer": "ipython3",
   "version": "3.7.4"
  }
 },
 "nbformat": 4,
 "nbformat_minor": 4
}
