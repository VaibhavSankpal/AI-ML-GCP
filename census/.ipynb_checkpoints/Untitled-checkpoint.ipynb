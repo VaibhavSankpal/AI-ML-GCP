{
 "cells": [
  {
   "cell_type": "code",
   "execution_count": 17,
   "metadata": {},
   "outputs": [
    {
     "name": "stdout",
     "output_type": "stream",
     "text": [
      "Job [census_prediction_20200211_115601] submitted successfully.\n",
      "Your job is still active. You may view the status of your job with the command\n",
      "\n",
      "  $ gcloud ai-platform jobs describe census_prediction_20200211_115601\n",
      "\n",
      "or continue streaming the logs with the command\n",
      "\n",
      "  $ gcloud ai-platform jobs stream-logs census_prediction_20200211_115601\n",
      "jobId: census_prediction_20200211_115601\n",
      "state: QUEUED\n"
     ]
    }
   ],
   "source": [
    "!gcloud ai-platform jobs submit training census_prediction_$(date +\"%Y%m%d_%H%M%S\") \\\n",
    "--staging-bucket gs://cap-4985-mlengine-staging \\\n",
    "--package-path=${PWD}/censusprediction/trainer \\\n",
    "--module-name trainer.task \\\n",
    "--region us-central1 \\\n",
    "--runtime-version=1.13 \\\n",
    "--python-version=3.5 \\\n",
    "--scale-tier BASIC \\\n",
    "-- \\\n",
    "--bucket_name cap-4985-modelmanagement \\\n",
    "--output_dir census/output"
   ]
  },
  {
   "cell_type": "code",
   "execution_count": null,
   "metadata": {},
   "outputs": [],
   "source": [
    "import os\n",
    "import numpy as np\n",
    "import pandas as pd\n",
    "import sys\n",
    "import json\n",
    "import logging\n",
    "from sklearn.externals import joblib\n",
    "from censusprediction.trainer.helper import gcshelper, bqhelper\n",
    "\n",
    "# Specify default parameters.\n",
    "MODEL_BUCKET = 'cap-4985-modelmanagement'\n",
    "MODEL_PATH = 'census/output/'\n",
    "LOCAL_PATH = 'model'\n",
    "\n",
    "gcshelper.download_from_bucket(MODEL_BUCKET, MODEL_PATH, LOCAL_PATH)\n",
    "model = joblib.load(LOCAL_PATH + '/model.joblib')"
   ]
  },
  {
   "cell_type": "code",
   "execution_count": 11,
   "metadata": {},
   "outputs": [],
   "source": [
    "df = bqhelper.read_from_bqtable('sb-bigdata-4985-da852265', 'SELECT * FROM `sb-bigdata-4985-da852265.modelmanagement.composer_census_data`')\n",
    "#inputObjs = np.array(df)"
   ]
  },
  {
   "cell_type": "code",
   "execution_count": 12,
   "metadata": {},
   "outputs": [],
   "source": [
    "df1 = df.drop(['income_bracket'], axis=1)"
   ]
  },
  {
   "cell_type": "code",
   "execution_count": 13,
   "metadata": {},
   "outputs": [],
   "source": [
    "op = model.predict(df1)"
   ]
  },
  {
   "cell_type": "code",
   "execution_count": 17,
   "metadata": {},
   "outputs": [
    {
     "data": {
      "text/plain": [
       "32561"
      ]
     },
     "execution_count": 17,
     "metadata": {},
     "output_type": "execute_result"
    }
   ],
   "source": [
    "len(op)"
   ]
  },
  {
   "cell_type": "code",
   "execution_count": 15,
   "metadata": {},
   "outputs": [
    {
     "data": {
      "text/plain": [
       "array([[32, ' Private', 112137, ..., 40, ' Cambodia', ' <=50K'],\n",
       "       [54, ' ?', 148657, ..., 40, ' Mexico', ' <=50K'],\n",
       "       [46, ' Private', 225065, ..., 40, ' Mexico', ' <=50K'],\n",
       "       ...,\n",
       "       [50, ' Private', 145333, ..., 50, ' United-States', ' >50K'],\n",
       "       [74, ' State-gov', 88638, ..., 20, ' United-States', ' >50K'],\n",
       "       [39, ' Self-emp-not-inc', 160120, ..., 40, ' ?', ' <=50K']],\n",
       "      dtype=object)"
      ]
     },
     "execution_count": 15,
     "metadata": {},
     "output_type": "execute_result"
    }
   ],
   "source": [
    "#df = instances\n",
    "inputObjs"
   ]
  },
  {
   "cell_type": "code",
   "execution_count": 10,
   "metadata": {},
   "outputs": [
    {
     "ename": "AttributeError",
     "evalue": "'numpy.ndarray' object has no attribute 'drop'",
     "output_type": "error",
     "traceback": [
      "\u001b[0;31m---------------------------------------------------------------------------\u001b[0m",
      "\u001b[0;31mAttributeError\u001b[0m                            Traceback (most recent call last)",
      "\u001b[0;32m<ipython-input-10-9022ee45c814>\u001b[0m in \u001b[0;36m<module>\u001b[0;34m\u001b[0m\n\u001b[0;32m----> 1\u001b[0;31m \u001b[0minputObjs\u001b[0m\u001b[0;34m.\u001b[0m\u001b[0mdrop\u001b[0m\u001b[0;34m(\u001b[0m\u001b[0;34m[\u001b[0m\u001b[0;34m'income_bracket'\u001b[0m\u001b[0;34m]\u001b[0m\u001b[0;34m,\u001b[0m \u001b[0maxis\u001b[0m\u001b[0;34m=\u001b[0m\u001b[0;36m1\u001b[0m\u001b[0;34m)\u001b[0m\u001b[0;34m\u001b[0m\u001b[0;34m\u001b[0m\u001b[0m\n\u001b[0m",
      "\u001b[0;31mAttributeError\u001b[0m: 'numpy.ndarray' object has no attribute 'drop'"
     ]
    }
   ],
   "source": [
    "inputObjs.drop(['income_bracket'], axis=1)"
   ]
  },
  {
   "cell_type": "code",
   "execution_count": null,
   "metadata": {},
   "outputs": [],
   "source": [
    "for i in range(len(inputObjs)):\n",
    "    pvalue = model.predict([inputObjs[i]])\n",
    "    pred = json.dumps(str(pvalue))\n",
    "    write_df = pd.Dataframe(data=pred)"
   ]
  }
 ],
 "metadata": {
  "kernelspec": {
   "display_name": "Python 3",
   "language": "python",
   "name": "python3"
  },
  "language_info": {
   "codemirror_mode": {
    "name": "ipython",
    "version": 3
   },
   "file_extension": ".py",
   "mimetype": "text/x-python",
   "name": "python",
   "nbconvert_exporter": "python",
   "pygments_lexer": "ipython3",
   "version": "3.7.4"
  }
 },
 "nbformat": 4,
 "nbformat_minor": 4
}
