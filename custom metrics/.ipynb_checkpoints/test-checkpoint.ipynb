{
 "cells": [
  {
   "cell_type": "code",
   "execution_count": 40,
   "metadata": {},
   "outputs": [
    {
     "ename": "SyntaxError",
     "evalue": "invalid syntax (<ipython-input-40-2e4f75bb0b52>, line 52)",
     "output_type": "error",
     "traceback": [
      "\u001b[0;36m  File \u001b[0;32m\"<ipython-input-40-2e4f75bb0b52>\"\u001b[0;36m, line \u001b[0;32m52\u001b[0m\n\u001b[0;31m    def get_trainingcost(job[\"trainingOutput.consumedMLUnits\"]):\u001b[0m\n\u001b[0m                            ^\u001b[0m\n\u001b[0;31mSyntaxError\u001b[0m\u001b[0;31m:\u001b[0m invalid syntax\n"
     ]
    }
   ],
   "source": [
    "import logging\n",
    "import datetime\n",
    "import json\n",
    "\n",
    "def get_api(url):\n",
    "    import google.auth\n",
    "    credentials, project = google.auth.default()\n",
    "    from google.auth.transport.requests import AuthorizedSession\n",
    "    authed_session = AuthorizedSession(credentials)\n",
    "    response = authed_session.get(url)\n",
    "    return response\n",
    "\n",
    "def post_api(url, data):\n",
    "    import google.auth\n",
    "    credentials, project = google.auth.default()\n",
    "    from google.auth.transport.requests import AuthorizedSession\n",
    "    authed_session = AuthorizedSession(credentials)\n",
    "    response = authed_session.post(url, data)\n",
    "    return response\n",
    "\n",
    "def get_createdby(createTime, jobId):\n",
    "    createdBy=\"\"\n",
    "    import arrow\n",
    "    createTime = arrow.get(createTime)\n",
    "    logstart=createTime + datetime.timedelta(minutes = -2)\n",
    "    logend=createTime + datetime.timedelta(minutes = 2)\n",
    "    body = {\"resourceNames\": [\"projects/sb-bigdata-4985-da852265\"], \"filter\":'resource.type=\"audited_resource\" \\\n",
    "    resource.labels.service=\"ml.googleapis.com\" \\\n",
    "    resource.labels.method=\"google.cloud.ml.v1.JobService.CreateJob\" \\\n",
    "    timestamp>=\"' + str(logstart) + '\" \\\n",
    "    timestamp<=\"' + str(logend) + '\"'\n",
    "    }\n",
    "    y = json.dumps(body)\n",
    "    response=post_api('https://logging.googleapis.com/v2/entries:list', y)\n",
    "    import pandas as pd\n",
    "    data_df = pd.read_json(response.text)\n",
    "    if 'entries' in data_df:\n",
    "        for job in data_df['entries']:\n",
    "            if job[\"protoPayload\"][\"request\"][\"job\"][\"jobId\"] == jobId:\n",
    "                createdBy=job[\"protoPayload\"][\"authenticationInfo\"][\"principalEmail\"]\n",
    "                break\n",
    "    else:\n",
    "        if response.status_code == 429:\n",
    "            import time\n",
    "            # print(\"Sleeping 1 Sec: \" + jobId)\n",
    "            time.sleep(1)\n",
    "            createdBy=get_createdby(createTime, jobId)\n",
    "            #createdBy=\"Error\"\n",
    "            \n",
    "    return createdBy\n",
    "    \n",
    "def get_trainingcost(consumedMLUnits):\n",
    "    trainingCost=\"\"\n",
    "    import arrow\n",
    "    trainingCost = arrow.get(trainingOutput.consumedMLUnits)\n",
    "    logstart=datetime.timedelta(minutes = -2)\n",
    "    logend=datetime.timedelta(minutes = 2)\n",
    "    body = {\"resourceNames\": [\"projects/sb-bigdata-4985-da852265\"], \"filter\":'resource.type=\"audited_resource\" \\\n",
    "    resource.labels.service=\"ml.googleapis.com\" \\\n",
    "    resource.labels.method=\"google.cloud.ml.v1.JobService.CreateJob\" \\\n",
    "    timestamp>=\"' + str(logstart) + '\" \\\n",
    "    timestamp<=\"' + str(logend) + '\"'\n",
    "    }\n",
    "    x = json.dumps(body)\n",
    "    response=post_api('https://logging.googleapis.com/v2/entries:list', x)\n",
    "    import pandas as pd\n",
    "    data_df = pd.read_json(response.text)\n",
    "    for job in data_df['entries']:\n",
    "        trainingCost = trainingCost*0.49\n",
    "            \n",
    "    return trainingCost   \n",
    "    \n",
    "def get_jobs_df():\n",
    "    response = get_api('https://ml.googleapis.com/v1/projects/sb-bigdata-4985-da852265/jobs')\n",
    "    job_list=[]\n",
    "    if response.status_code == 200:\n",
    "        while True:\n",
    "            import json\n",
    "            import pandas as pd\n",
    "            data_df = pd.read_json(response.text)\n",
    "            for job in data_df['jobs']:\n",
    "                job[\"createdby\"]=get_createdby(job[\"createTime\"], job[\"jobId\"])\n",
    "                job[\"trainingcost\"]=get_trainingcost(job[\"consumedMLUnits\"])\n",
    "                job_list.append(job)\n",
    "                \n",
    "            page_token = None\n",
    "            page_token = data_df.get('nextPageToken')\n",
    "            if page_token is None:\n",
    "                break\n",
    "            else:\n",
    "                response = get_api('https://ml.googleapis.com/v1/projects/sb-bigdata-4985-da852265/jobs' + '?pageToken=' + str(page_token[0]))\n",
    "    from pandas.io.json import json_normalize\n",
    "    job_df=json_normalize(job_list)\n",
    "    job_df_new = job_df.rename(columns={\"createTime\": \"createtime\", \"endTime\": \"endtime\", \"jobId\":\"jobid\", \"startTime\":\"starttime\"\n",
    "                       , \"trainingInput.args\":\"args\", \"trainingInput.jobDir\":\"jobdir\", \"trainingInput.masterConfig.imageUri\":\"imageuri\"\n",
    "                       , \"trainingInput.masterType\":\"mastertype\", \"trainingInput.packageUris\":\"packageuris\", \"trainingInput.pythonModule\":\"pythonmodule\"\n",
    "                       , \"trainingInput.pythonVersion\":\"pythonversion\", \"trainingInput.region\":\"region\", \"trainingInput.runtimeVersion\":\"runtimeversion\"\n",
    "                       , \"trainingInput.scaleTier\":\"scaletier\", \"trainingOutput.consumedMLUnits\":\"consumedmlunits\", \"trainingCost\":\"trainingcost\"})\n",
    "    return job_df_new\n",
    "\n",
    "def write_to_bqtable(bq_tablename, bq_schemaname, datadf):\n",
    "    import google.auth\n",
    "    from google.cloud import bigquery\n",
    "    credentials, project = google.auth.default()\n",
    "    client = bigquery.Client(project)\n",
    "    job_config = bigquery.LoadJobConfig()\n",
    "    job_config.schema = bq_schemaname\n",
    "    \n",
    "    job = client.load_table_from_dataframe(datadf, bq_tablename, job_config=job_config)\n",
    "    # Wait for the load job to complete.\n",
    "    job.result()\n",
    "\n",
    "def get_data(request): \n",
    "    jobs = []\n",
    "    jobs = get_jobs_df()\n",
    "    jobs = jobs.drop(columns=[\"errorMessage\", \"etag\"])\n",
    "    print(\"AI platform jobs count : \",str(len(jobs)))\n",
    "    jobs.insert(0, 'date', str(datetime.datetime.utcnow()))\n",
    "    from google.cloud import bigquery\n",
    "    varbqschema=[\n",
    "        bigquery.SchemaField(name=\"date\", field_type=\"STRING\"),\n",
    "        bigquery.SchemaField(name=\"createtime\", field_type=\"STRING\"),\n",
    "        bigquery.SchemaField(name=\"createdby\", field_type=\"STRING\"),\n",
    "        bigquery.SchemaField(name=\"endtime\", field_type=\"STRING\"),\n",
    "        bigquery.SchemaField(name=\"jobid\", field_type=\"STRING\"),\n",
    "        bigquery.SchemaField(name=\"starttime\", field_type=\"STRING\"),\n",
    "        bigquery.SchemaField(name=\"state\", field_type=\"STRING\"),\n",
    "        bigquery.SchemaField(name=\"args\", field_type=\"STRING\"),\n",
    "        bigquery.SchemaField(name=\"jobdir\", field_type=\"STRING\"),\n",
    "        bigquery.SchemaField(name=\"imageuri\", field_type=\"STRING\"),\n",
    "        bigquery.SchemaField(name=\"mastertype\", field_type=\"STRING\"),\n",
    "        bigquery.SchemaField(name=\"packageuris\", field_type=\"STRING\"),\n",
    "        bigquery.SchemaField(name=\"pythonmodule\", field_type=\"STRING\"),\n",
    "        bigquery.SchemaField(name=\"pythonversion\", field_type=\"STRING\"),\n",
    "        bigquery.SchemaField(name=\"region\", field_type=\"STRING\"),\n",
    "        bigquery.SchemaField(name=\"runtimeversion\", field_type=\"STRING\"),\n",
    "        bigquery.SchemaField(name=\"scaletier\", field_type=\"STRING\"),\n",
    "        bigquery.SchemaField(name=\"consumedmlunits\", field_type=\"STRING\"),\n",
    "        bigquery.SchemaField(name=\"trainingcost\", field_type=\"STRING\")\n",
    "    ]\n",
    "    write_to_bqtable('modelmanagement.jobstemp', varbqschema, jobs.astype(str))\n",
    "    return \"Done!\""
   ]
  },
  {
   "cell_type": "code",
   "execution_count": 43,
   "metadata": {},
   "outputs": [
    {
     "ename": "NameError",
     "evalue": "name 'consumedMLUnits' is not defined",
     "output_type": "error",
     "traceback": [
      "\u001b[0;31m---------------------------------------------------------------------------\u001b[0m",
      "\u001b[0;31mNameError\u001b[0m                                 Traceback (most recent call last)",
      "\u001b[0;32m<ipython-input-43-8bbdae917aeb>\u001b[0m in \u001b[0;36m<module>\u001b[0;34m\u001b[0m\n\u001b[1;32m      1\u001b[0m \u001b[0;32mimport\u001b[0m \u001b[0marrow\u001b[0m\u001b[0;34m\u001b[0m\u001b[0;34m\u001b[0m\u001b[0m\n\u001b[0;32m----> 2\u001b[0;31m \u001b[0mtrainingCost\u001b[0m \u001b[0;34m=\u001b[0m \u001b[0marrow\u001b[0m\u001b[0;34m.\u001b[0m\u001b[0mget\u001b[0m\u001b[0;34m(\u001b[0m\u001b[0mconsumedMLUnits\u001b[0m\u001b[0;34m)\u001b[0m\u001b[0;34m\u001b[0m\u001b[0;34m\u001b[0m\u001b[0m\n\u001b[0m\u001b[1;32m      3\u001b[0m \u001b[0mlogstart\u001b[0m\u001b[0;34m=\u001b[0m\u001b[0mdatetime\u001b[0m\u001b[0;34m.\u001b[0m\u001b[0mtimedelta\u001b[0m\u001b[0;34m(\u001b[0m\u001b[0mminutes\u001b[0m \u001b[0;34m=\u001b[0m \u001b[0;34m-\u001b[0m\u001b[0;36m2\u001b[0m\u001b[0;34m)\u001b[0m\u001b[0;34m\u001b[0m\u001b[0;34m\u001b[0m\u001b[0m\n\u001b[1;32m      4\u001b[0m \u001b[0mlogend\u001b[0m\u001b[0;34m=\u001b[0m\u001b[0mdatetime\u001b[0m\u001b[0;34m.\u001b[0m\u001b[0mtimedelta\u001b[0m\u001b[0;34m(\u001b[0m\u001b[0mminutes\u001b[0m \u001b[0;34m=\u001b[0m \u001b[0;36m2\u001b[0m\u001b[0;34m)\u001b[0m\u001b[0;34m\u001b[0m\u001b[0;34m\u001b[0m\u001b[0m\n\u001b[1;32m      5\u001b[0m body = {\"resourceNames\": [\"projects/sb-bigdata-4985-da852265\"], \"filter\":'resource.type=\"audited_resource\" \\\n",
      "\u001b[0;31mNameError\u001b[0m: name 'consumedMLUnits' is not defined"
     ]
    }
   ],
   "source": [
    "import arrow\n",
    "trainingCost = arrow.get(consumedMLUnits)\n",
    "logstart=datetime.timedelta(minutes = -2)\n",
    "logend=datetime.timedelta(minutes = 2)\n",
    "body = {\"resourceNames\": [\"projects/sb-bigdata-4985-da852265\"], \"filter\":'resource.type=\"audited_resource\" \\\n",
    "resource.labels.service=\"ml.googleapis.com\" \\\n",
    "resource.labels.method=\"google.cloud.ml.v1.JobService.CreateJob\" \\\n",
    "timestamp>=\"' + str(logstart) + '\" \\\n",
    "timestamp<=\"' + str(logend) + '\"'\n",
    "}\n",
    "x = json.dumps(body)\n"
   ]
  },
  {
   "cell_type": "code",
   "execution_count": 36,
   "metadata": {},
   "outputs": [
    {
     "name": "stdout",
     "output_type": "stream",
     "text": [
      "2019-12-09 14:01:07.430152\n"
     ]
    },
    {
     "ename": "KeyError",
     "evalue": "'consumedmlunits'",
     "output_type": "error",
     "traceback": [
      "\u001b[0;31m---------------------------------------------------------------------------\u001b[0m",
      "\u001b[0;31mKeyError\u001b[0m                                  Traceback (most recent call last)",
      "\u001b[0;32m<ipython-input-36-bf4fdb3f8bc7>\u001b[0m in \u001b[0;36m<module>\u001b[0;34m\u001b[0m\n\u001b[1;32m      1\u001b[0m \u001b[0mprint\u001b[0m\u001b[0;34m(\u001b[0m\u001b[0mdatetime\u001b[0m\u001b[0;34m.\u001b[0m\u001b[0mdatetime\u001b[0m\u001b[0;34m.\u001b[0m\u001b[0mnow\u001b[0m\u001b[0;34m(\u001b[0m\u001b[0;34m)\u001b[0m\u001b[0;34m)\u001b[0m\u001b[0;34m\u001b[0m\u001b[0;34m\u001b[0m\u001b[0m\n\u001b[0;32m----> 2\u001b[0;31m \u001b[0mget_data\u001b[0m\u001b[0;34m(\u001b[0m\u001b[0;32mNone\u001b[0m\u001b[0;34m)\u001b[0m\u001b[0;34m\u001b[0m\u001b[0;34m\u001b[0m\u001b[0m\n\u001b[0m\u001b[1;32m      3\u001b[0m \u001b[0mprint\u001b[0m\u001b[0;34m(\u001b[0m\u001b[0mdatetime\u001b[0m\u001b[0;34m.\u001b[0m\u001b[0mdatetime\u001b[0m\u001b[0;34m.\u001b[0m\u001b[0mnow\u001b[0m\u001b[0;34m(\u001b[0m\u001b[0;34m)\u001b[0m\u001b[0;34m)\u001b[0m\u001b[0;34m\u001b[0m\u001b[0;34m\u001b[0m\u001b[0m\n",
      "\u001b[0;32m<ipython-input-35-e56c2f5cb70b>\u001b[0m in \u001b[0;36mget_data\u001b[0;34m(request)\u001b[0m\n\u001b[1;32m    113\u001b[0m \u001b[0;32mdef\u001b[0m \u001b[0mget_data\u001b[0m\u001b[0;34m(\u001b[0m\u001b[0mrequest\u001b[0m\u001b[0;34m)\u001b[0m\u001b[0;34m:\u001b[0m\u001b[0;34m\u001b[0m\u001b[0;34m\u001b[0m\u001b[0m\n\u001b[1;32m    114\u001b[0m     \u001b[0mjobs\u001b[0m \u001b[0;34m=\u001b[0m \u001b[0;34m[\u001b[0m\u001b[0;34m]\u001b[0m\u001b[0;34m\u001b[0m\u001b[0;34m\u001b[0m\u001b[0m\n\u001b[0;32m--> 115\u001b[0;31m     \u001b[0mjobs\u001b[0m \u001b[0;34m=\u001b[0m \u001b[0mget_jobs_df\u001b[0m\u001b[0;34m(\u001b[0m\u001b[0;34m)\u001b[0m\u001b[0;34m\u001b[0m\u001b[0;34m\u001b[0m\u001b[0m\n\u001b[0m\u001b[1;32m    116\u001b[0m     \u001b[0mjobs\u001b[0m \u001b[0;34m=\u001b[0m \u001b[0mjobs\u001b[0m\u001b[0;34m.\u001b[0m\u001b[0mdrop\u001b[0m\u001b[0;34m(\u001b[0m\u001b[0mcolumns\u001b[0m\u001b[0;34m=\u001b[0m\u001b[0;34m[\u001b[0m\u001b[0;34m\"errorMessage\"\u001b[0m\u001b[0;34m,\u001b[0m \u001b[0;34m\"etag\"\u001b[0m\u001b[0;34m]\u001b[0m\u001b[0;34m)\u001b[0m\u001b[0;34m\u001b[0m\u001b[0;34m\u001b[0m\u001b[0m\n\u001b[1;32m    117\u001b[0m     \u001b[0mprint\u001b[0m\u001b[0;34m(\u001b[0m\u001b[0;34m\"AI platform jobs count : \"\u001b[0m\u001b[0;34m,\u001b[0m\u001b[0mstr\u001b[0m\u001b[0;34m(\u001b[0m\u001b[0mlen\u001b[0m\u001b[0;34m(\u001b[0m\u001b[0mjobs\u001b[0m\u001b[0;34m)\u001b[0m\u001b[0;34m)\u001b[0m\u001b[0;34m)\u001b[0m\u001b[0;34m\u001b[0m\u001b[0;34m\u001b[0m\u001b[0m\n",
      "\u001b[0;32m<ipython-input-35-e56c2f5cb70b>\u001b[0m in \u001b[0;36mget_jobs_df\u001b[0;34m()\u001b[0m\n\u001b[1;32m     81\u001b[0m             \u001b[0;32mfor\u001b[0m \u001b[0mjob\u001b[0m \u001b[0;32min\u001b[0m \u001b[0mdata_df\u001b[0m\u001b[0;34m[\u001b[0m\u001b[0;34m'jobs'\u001b[0m\u001b[0;34m]\u001b[0m\u001b[0;34m:\u001b[0m\u001b[0;34m\u001b[0m\u001b[0;34m\u001b[0m\u001b[0m\n\u001b[1;32m     82\u001b[0m                 \u001b[0mjob\u001b[0m\u001b[0;34m[\u001b[0m\u001b[0;34m\"createdby\"\u001b[0m\u001b[0;34m]\u001b[0m\u001b[0;34m=\u001b[0m\u001b[0mget_createdby\u001b[0m\u001b[0;34m(\u001b[0m\u001b[0mjob\u001b[0m\u001b[0;34m[\u001b[0m\u001b[0;34m\"createTime\"\u001b[0m\u001b[0;34m]\u001b[0m\u001b[0;34m,\u001b[0m \u001b[0mjob\u001b[0m\u001b[0;34m[\u001b[0m\u001b[0;34m\"jobId\"\u001b[0m\u001b[0;34m]\u001b[0m\u001b[0;34m)\u001b[0m\u001b[0;34m\u001b[0m\u001b[0;34m\u001b[0m\u001b[0m\n\u001b[0;32m---> 83\u001b[0;31m                 \u001b[0mjob\u001b[0m\u001b[0;34m[\u001b[0m\u001b[0;34m\"trainingcost\"\u001b[0m\u001b[0;34m]\u001b[0m\u001b[0;34m=\u001b[0m\u001b[0mget_trainingcost\u001b[0m\u001b[0;34m(\u001b[0m\u001b[0mjob\u001b[0m\u001b[0;34m[\u001b[0m\u001b[0;34m\"consumedmlunits\"\u001b[0m\u001b[0;34m]\u001b[0m\u001b[0;34m)\u001b[0m\u001b[0;34m\u001b[0m\u001b[0;34m\u001b[0m\u001b[0m\n\u001b[0m\u001b[1;32m     84\u001b[0m                 \u001b[0mjob_list\u001b[0m\u001b[0;34m.\u001b[0m\u001b[0mappend\u001b[0m\u001b[0;34m(\u001b[0m\u001b[0mjob\u001b[0m\u001b[0;34m)\u001b[0m\u001b[0;34m\u001b[0m\u001b[0;34m\u001b[0m\u001b[0m\n\u001b[1;32m     85\u001b[0m \u001b[0;34m\u001b[0m\u001b[0m\n",
      "\u001b[0;31mKeyError\u001b[0m: 'consumedmlunits'"
     ]
    }
   ],
   "source": [
    "print(datetime.datetime.now())\n",
    "get_data(None)\n",
    "print(datetime.datetime.now())"
   ]
  },
  {
   "cell_type": "code",
   "execution_count": 6,
   "metadata": {},
   "outputs": [],
   "source": [
    "def get_jobs_df():\n",
    "    response = get_api('https://ml.googleapis.com/v1/projects/sb-bigdata-4985-da852265/jobs')\n",
    "    job_list=[]\n",
    "    if response.status_code == 200:\n",
    "        while True:\n",
    "            import json\n",
    "            import pandas as pd\n",
    "            data_df = pd.read_json(response.text)\n",
    "            for job in data_df['jobs']:\n",
    "                job[\"createdby\"]=get_createdby(job[\"createTime\"], job[\"jobId\"])\n",
    "                job_list.append(job)\n",
    "                \n",
    "            page_token = None\n",
    "            page_token = data_df.get('nextPageToken')\n",
    "            if page_token is None:\n",
    "                break\n",
    "            else:\n",
    "                response = get_api('https://ml.googleapis.com/v1/projects/sb-bigdata-4985-da852265/jobs' + '?pageToken=' + str(page_token[0]))\n",
    "    from pandas.io.json import json_normalize\n",
    "    job_df=json_normalize(job_list)\n",
    "    job_df_new = job_df.rename(columns={\"createTime\": \"createtime\", \"endTime\": \"endtime\", \"jobId\":\"jobid\", \"startTime\":\"starttime\"\n",
    "                       , \"trainingInput.args\":\"args\", \"trainingInput.jobDir\":\"jobdir\", \"trainingInput.masterConfig.imageUri\":\"imageuri\"\n",
    "                       , \"trainingInput.masterType\":\"mastertype\", \"trainingInput.packageUris\":\"packageuris\", \"trainingInput.pythonModule\":\"pythonmodule\"\n",
    "                       , \"trainingInput.pythonVersion\":\"pythonversion\", \"trainingInput.region\":\"region\", \"trainingInput.runtimeVersion\":\"runtimeversion\"\n",
    "                       , \"trainingInput.scaleTier\":\"scaletier\", \"trainingOutput.consumedMLUnits\":\"consumedmlunits\"})\n",
    "    return job_df_new"
   ]
  },
  {
   "cell_type": "code",
   "execution_count": 7,
   "metadata": {},
   "outputs": [],
   "source": [
    "response = get_api('https://ml.googleapis.com/v1/projects/sb-bigdata-4985-da852265/jobs')"
   ]
  },
  {
   "cell_type": "code",
   "execution_count": 16,
   "metadata": {},
   "outputs": [
    {
     "ename": "NameError",
     "evalue": "name 'consumedMLUnits' is not defined",
     "output_type": "error",
     "traceback": [
      "\u001b[0;31m---------------------------------------------------------------------------\u001b[0m",
      "\u001b[0;31mNameError\u001b[0m                                 Traceback (most recent call last)",
      "\u001b[0;32m<ipython-input-16-cb0b0f0136eb>\u001b[0m in \u001b[0;36m<module>\u001b[0;34m\u001b[0m\n\u001b[1;32m      1\u001b[0m \u001b[0;32mimport\u001b[0m \u001b[0marrow\u001b[0m\u001b[0;34m\u001b[0m\u001b[0;34m\u001b[0m\u001b[0m\n\u001b[0;32m----> 2\u001b[0;31m \u001b[0mtrainingCost\u001b[0m \u001b[0;34m=\u001b[0m \u001b[0marrow\u001b[0m\u001b[0;34m.\u001b[0m\u001b[0mget\u001b[0m\u001b[0;34m(\u001b[0m\u001b[0mconsumedMLUnits\u001b[0m\u001b[0;34m)\u001b[0m\u001b[0;34m\u001b[0m\u001b[0;34m\u001b[0m\u001b[0m\n\u001b[0m",
      "\u001b[0;31mNameError\u001b[0m: name 'consumedMLUnits' is not defined"
     ]
    }
   ],
   "source": [
    "import arrow\n",
    "trainingCost = arrow.get(consumedMLUnits)"
   ]
  },
  {
   "cell_type": "code",
   "execution_count": null,
   "metadata": {},
   "outputs": [],
   "source": []
  },
  {
   "cell_type": "code",
   "execution_count": null,
   "metadata": {},
   "outputs": [],
   "source": []
  }
 ],
 "metadata": {
  "kernelspec": {
   "display_name": "Python 3",
   "language": "python",
   "name": "python3"
  },
  "language_info": {
   "codemirror_mode": {
    "name": "ipython",
    "version": 3
   },
   "file_extension": ".py",
   "mimetype": "text/x-python",
   "name": "python",
   "nbconvert_exporter": "python",
   "pygments_lexer": "ipython3",
   "version": "3.7.4"
  }
 },
 "nbformat": 4,
 "nbformat_minor": 4
}
